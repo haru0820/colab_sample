{
  "nbformat": 4,
  "nbformat_minor": 0,
  "metadata": {
    "colab": {
      "name": "Untitled2.ipynb",
      "provenance": [],
      "toc_visible": true,
      "history_visible": true,
      "authorship_tag": "ABX9TyOTLuaRYtyN/ERtMnHGr/pJ",
      "include_colab_link": true
    },
    "kernelspec": {
      "name": "python3",
      "display_name": "Python 3"
    },
    "language_info": {
      "name": "python"
    },
    "accelerator": "GPU"
  },
  "cells": [
    {
      "cell_type": "markdown",
      "metadata": {
        "id": "view-in-github",
        "colab_type": "text"
      },
      "source": [
        "<a href=\"https://colab.research.google.com/github/jinchunri/colab_sample/blob/main/Untitled2.ipynb\" target=\"_parent\"><img src=\"https://colab.research.google.com/assets/colab-badge.svg\" alt=\"Open In Colab\"/></a>"
      ]
    },
    {
      "cell_type": "code",
      "metadata": {
        "id": "_D5wsT2_Vk7j"
      },
      "source": [
        "from sklearn import datasets\n",
        "iris = datasets.load_iris()\n",
        "\n",
        "print(iris.feature_names)\n",
        "print(iris.data[:10])\n",
        "\n",
        "for i in iris.data[:10]:\n",
        "    print(i[1])\n",
        "\n",
        "print(iris.feature_names)\n",
        "print(iris.target_names)\n"
      ],
      "execution_count": null,
      "outputs": []
    },
    {
      "cell_type": "code",
      "metadata": {
        "id": "sMMrZWnyWUJ7"
      },
      "source": [
        ""
      ],
      "execution_count": null,
      "outputs": []
    },
    {
      "cell_type": "code",
      "metadata": {
        "colab": {
          "base_uri": "https://localhost:8080/"
        },
        "id": "592ElSKHWLIW",
        "outputId": "cac4b454-9246-4426-9a69-97d8ea1c57a0"
      },
      "source": [
        "# 訓練データと試験データを分ける\n",
        "from sklearn.model_selection import train_test_split\n",
        "X_train,X_test,y_train,y_test = train_test_split(iris.data, iris.target, train_size = 0.3, random_state =0)\n",
        "\n",
        "# KNNのモデル作成（近傍法）\n",
        "from sklearn.neighbors import KNeighborsClassifier\n",
        "model=KNeighborsClassifier(n_neighbors=1)\n",
        "\n",
        "# 学習\n",
        "model.fit(X_train,y_train)\n",
        "\n",
        "# 予測\n",
        "y_pred =model.predict(X_test)\n",
        "\n",
        "#予測結果と正解と精度の確認\n",
        "print(y_pred)\n",
        "print(y_test)\n",
        "\n",
        "import numpy as np\n",
        "print(np.mean(y_pred==y_test))"
      ],
      "execution_count": null,
      "outputs": [
        {
          "output_type": "stream",
          "text": [
            "[2 1 0 2 0 2 0 1 1 1 2 1 1 1 2 0 1 1 0 0 2 1 0 0 2 0 0 1 1 0 2 1 0 2 2 1 0\n",
            " 2 1 1 2 0 2 0 0 1 2 2 1 2 1 2 1 1 1 1 1 1 1 2 1 0 2 1 1 1 1 2 0 0 2 1 0 0\n",
            " 1 0 2 1 0 1 2 1 0 2 2 2 2 0 0 2 2 0 2 0 2 2 0 0 2 0 0 0 1 2 2]\n",
            "[2 1 0 2 0 2 0 1 1 1 2 1 1 1 1 0 1 1 0 0 2 1 0 0 2 0 0 1 1 0 2 1 0 2 2 1 0\n",
            " 1 1 1 2 0 2 0 0 1 2 2 2 2 1 2 1 1 2 2 2 2 1 2 1 0 2 1 1 1 1 2 0 0 2 1 0 0\n",
            " 1 0 2 1 0 1 2 1 0 2 2 2 2 0 0 2 2 0 2 0 2 2 0 0 2 0 0 0 1 2 2]\n",
            "0.9333333333333333\n"
          ],
          "name": "stdout"
        }
      ]
    },
    {
      "cell_type": "markdown",
      "metadata": {
        "id": "7-y_NBDWWLqy"
      },
      "source": [
        "# 新しいセクション"
      ]
    },
    {
      "cell_type": "code",
      "metadata": {
        "colab": {
          "base_uri": "https://localhost:8080/",
          "height": 571
        },
        "id": "72Tw05EiqHJz",
        "outputId": "e36b51d8-79e7-4fca-d252-2e062e84655c"
      },
      "source": [
        "# 回帰\n",
        "# 線形回帰\n",
        "import matplotlib.pyplot as plt\n",
        "import sklearn.datasets as datasets\n",
        "\n",
        "X,y = datasets.make_regression(n_samples=50,n_features=1,noise=10,random_state= 1)\n",
        "\n",
        "plt.plot(X,y,\"X\")\n",
        "plt.show()\n",
        "\n",
        "# 線形回帰\n",
        "from sklearn.model_selection import train_test_split\n",
        "from sklearn.linear_model import LinearRegression\n",
        "X_train,X_test,y_train,y_test = train_test_split(X,y,random_state = 2)\n",
        "\n",
        "model = LinearRegression().fit(X_train,y_train)\n",
        "y_pred = model.predict(X_test)\n",
        "print(y_pred)\n",
        "\n",
        "# グラフ表示\n",
        "import matplotlib.pyplot as plt\n",
        "lx = np.linspace(-2,2)\n",
        "ly = model.coef_*lx + model.intercept_\n",
        "\n",
        "plt.plot(lx, ly, 'r-')\n",
        "plt.plot(X_test, y_test,'D',markersize=10)\n",
        "plt.plot(X_test, y_pred,'X',markersize=10)\n",
        "plt.show()\n",
        "\n"
      ],
      "execution_count": null,
      "outputs": [
        {
          "output_type": "display_data",
          "data": {
            "image/png": "[encoded data removed]",
            "text/plain": [
              "<Figure size 432x288 with 1 Axes>"
            ]
          },
          "metadata": {
            "tags": [],
            "needs_background": "light"
          }
        },
        {
          "output_type": "stream",
          "text": [
            "[-93.79625057   6.70070345 102.74968425 156.5169748   -7.8272481\n",
            " -18.95658354 -57.87492736 -31.92523144 -62.75830836 -63.99448385\n",
            "  82.31964145 -20.58600714  79.13579196]\n"
          ],
          "name": "stdout"
        },
        {
          "output_type": "display_data",
          "data": {
            "image/png": "[encoded data removed]",
            "text/plain": [
              "<Figure size 432x288 with 1 Axes>"
            ]
          },
          "metadata": {
            "tags": [],
            "needs_background": "light"
          }
        }
      ]
    },
    {
      "cell_type": "code",
      "metadata": {
        "id": "22i2FpWnxkj4"
      },
      "source": [
        ""
      ],
      "execution_count": null,
      "outputs": []
    }
  ]
}